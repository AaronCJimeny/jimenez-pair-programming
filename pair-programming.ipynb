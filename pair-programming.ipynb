{
 "cells": [
  {
   "cell_type": "markdown",
   "id": "c5b337f9-7166-4daf-83bd-4da9262c4f91",
   "metadata": {},
   "source": [
    "1. Takes two values (feet and inches) and converts to meters\n",
    "2. Changes coordinates from polar to Cartesian\n",
    "3. Offsets the mean of a given data to match a given value\n",
    "4. Takes the input data and returns values scaled to lie in the range of 0.0 to 1.0."
   ]
  },
  {
   "cell_type": "markdown",
   "id": "baef5c8c-9a4a-4663-8f61-ef17fe348723",
   "metadata": {},
   "source": [
    "## Functions Assignment"
   ]
  },
  {
   "cell_type": "code",
   "execution_count": 4,
   "id": "f59834e5-3e1c-4e18-a121-fe45a816d96c",
   "metadata": {},
   "outputs": [],
   "source": [
    "import numpy as np\n",
    "import math "
   ]
  },
  {
   "cell_type": "code",
   "execution_count": 5,
   "id": "c465a6dd-e232-4c74-bef0-1b16a697a98f",
   "metadata": {},
   "outputs": [],
   "source": [
    "def feet_to_meters(feet, inches):\n",
    "    \"\"\" converts from feet to meters\n",
    "    \"\"\"\n",
    "    meters = feet * 0.3048\n",
    "    meters = meters + inches * 0.0254\n",
    "    return meters"
   ]
  },
  {
   "cell_type": "code",
   "execution_count": 6,
   "id": "f05363e8-6e97-4bb2-be7d-c9ea77b23eba",
   "metadata": {},
   "outputs": [],
   "source": [
    "def polar_to_cartesian(radius, angle):\n",
    "    \n",
    "    x = radius * math.cos(angle)\n",
    "    y = radius * math.sin(angle)\n",
    "    return(x,y)"
   ]
  },
  {
   "cell_type": "code",
   "execution_count": 7,
   "id": "9222bdc9-64d2-4cb2-8b57-9aec051b70bd",
   "metadata": {},
   "outputs": [
    {
     "data": {
      "text/plain": [
       "(2.4492935982947064e-16, 4.0)"
      ]
     },
     "execution_count": 7,
     "metadata": {},
     "output_type": "execute_result"
    }
   ],
   "source": [
    "polar_to_cartesian(4,math.pi/2)"
   ]
  },
  {
   "cell_type": "code",
   "execution_count": 8,
   "id": "81a1b569-901d-42bb-8293-ca8d42fe7b96",
   "metadata": {},
   "outputs": [],
   "source": [
    "def movemean(data,offset):\n",
    "    data = [data + offset]\n",
    "    return np.mean(data)"
   ]
  },
  {
   "cell_type": "code",
   "execution_count": 9,
   "id": "ee663a0c-fe07-4b13-b0bf-b8a2f768d3aa",
   "metadata": {},
   "outputs": [
    {
     "name": "stdout",
     "output_type": "stream",
     "text": [
      "2.0\n"
     ]
    },
    {
     "data": {
      "text/plain": [
       "4.0"
      ]
     },
     "execution_count": 9,
     "metadata": {},
     "output_type": "execute_result"
    }
   ],
   "source": [
    "data = np.array([1,1,4])\n",
    "print(np.mean(data))\n",
    "offset = 2\n",
    "movemean(data,offset)"
   ]
  },
  {
   "cell_type": "code",
   "execution_count": 41,
   "id": "136a72f0-e848-4125-8f42-46458d65c25b",
   "metadata": {},
   "outputs": [],
   "source": [
    "def change_scale(data):\n",
    "    data = [data / np.max(data)]\n",
    "    return data"
   ]
  },
  {
   "cell_type": "code",
   "execution_count": 11,
   "id": "607aad63-8033-4e65-8844-0b13bb5bb8ca",
   "metadata": {},
   "outputs": [
    {
     "name": "stdout",
     "output_type": "stream",
     "text": [
      "[array([0.26315789, 0.05263158, 0.21052632, 1.        ])]\n"
     ]
    }
   ],
   "source": [
    "data2 = [5,1,4,19]\n",
    "print(change_scale(data2))"
   ]
  },
  {
   "cell_type": "code",
   "execution_count": 52,
   "id": "4084c05f-e335-4ccb-94f1-abaecd87459a",
   "metadata": {},
   "outputs": [
    {
     "name": "stderr",
     "output_type": "stream",
     "text": [
      "C:\\Users\\jalen\\AppData\\Local\\Temp\\ipykernel_22924\\3542011408.py:2: DeprecationWarning: elementwise comparison failed; this will raise an error in the future.\n",
      "  assert (change_scale([0,1,2,3,4,5,6,7,8,9,10]) == np.array([.1,.2,.3,.4,.5,.6,.7,.8,.9,1])).all(), \"change_scale failed the test\"\n"
     ]
    },
    {
     "ename": "AttributeError",
     "evalue": "'bool' object has no attribute 'all'",
     "output_type": "error",
     "traceback": [
      "\u001b[1;31m---------------------------------------------------------------------------\u001b[0m",
      "\u001b[1;31mAttributeError\u001b[0m                            Traceback (most recent call last)",
      "\u001b[1;32m~\\AppData\\Local\\Temp\\ipykernel_22924\\3542011408.py\u001b[0m in \u001b[0;36m<module>\u001b[1;34m\u001b[0m\n\u001b[0;32m      1\u001b[0m \u001b[1;32mdef\u001b[0m \u001b[0mtest_scale\u001b[0m\u001b[1;33m(\u001b[0m\u001b[1;33m)\u001b[0m\u001b[1;33m:\u001b[0m\u001b[1;33m\u001b[0m\u001b[1;33m\u001b[0m\u001b[0m\n\u001b[0;32m      2\u001b[0m     \u001b[1;32massert\u001b[0m \u001b[1;33m(\u001b[0m\u001b[0mchange_scale\u001b[0m\u001b[1;33m(\u001b[0m\u001b[1;33m[\u001b[0m\u001b[1;36m0\u001b[0m\u001b[1;33m,\u001b[0m\u001b[1;36m1\u001b[0m\u001b[1;33m,\u001b[0m\u001b[1;36m2\u001b[0m\u001b[1;33m,\u001b[0m\u001b[1;36m3\u001b[0m\u001b[1;33m,\u001b[0m\u001b[1;36m4\u001b[0m\u001b[1;33m,\u001b[0m\u001b[1;36m5\u001b[0m\u001b[1;33m,\u001b[0m\u001b[1;36m6\u001b[0m\u001b[1;33m,\u001b[0m\u001b[1;36m7\u001b[0m\u001b[1;33m,\u001b[0m\u001b[1;36m8\u001b[0m\u001b[1;33m,\u001b[0m\u001b[1;36m9\u001b[0m\u001b[1;33m,\u001b[0m\u001b[1;36m10\u001b[0m\u001b[1;33m]\u001b[0m\u001b[1;33m)\u001b[0m \u001b[1;33m==\u001b[0m \u001b[0mnp\u001b[0m\u001b[1;33m.\u001b[0m\u001b[0marray\u001b[0m\u001b[1;33m(\u001b[0m\u001b[1;33m[\u001b[0m\u001b[1;36m.1\u001b[0m\u001b[1;33m,\u001b[0m\u001b[1;36m.2\u001b[0m\u001b[1;33m,\u001b[0m\u001b[1;36m.3\u001b[0m\u001b[1;33m,\u001b[0m\u001b[1;36m.4\u001b[0m\u001b[1;33m,\u001b[0m\u001b[1;36m.5\u001b[0m\u001b[1;33m,\u001b[0m\u001b[1;36m.6\u001b[0m\u001b[1;33m,\u001b[0m\u001b[1;36m.7\u001b[0m\u001b[1;33m,\u001b[0m\u001b[1;36m.8\u001b[0m\u001b[1;33m,\u001b[0m\u001b[1;36m.9\u001b[0m\u001b[1;33m,\u001b[0m\u001b[1;36m1\u001b[0m\u001b[1;33m]\u001b[0m\u001b[1;33m)\u001b[0m\u001b[1;33m)\u001b[0m\u001b[1;33m.\u001b[0m\u001b[0mall\u001b[0m\u001b[1;33m(\u001b[0m\u001b[1;33m)\u001b[0m\u001b[1;33m,\u001b[0m \u001b[1;34m\"change_scale failed the test\"\u001b[0m\u001b[1;33m\u001b[0m\u001b[1;33m\u001b[0m\u001b[0m\n\u001b[1;32m----> 3\u001b[1;33m \u001b[0mtest_scale\u001b[0m\u001b[1;33m(\u001b[0m\u001b[1;33m)\u001b[0m\u001b[1;33m\u001b[0m\u001b[1;33m\u001b[0m\u001b[0m\n\u001b[0m",
      "\u001b[1;32m~\\AppData\\Local\\Temp\\ipykernel_22924\\3542011408.py\u001b[0m in \u001b[0;36mtest_scale\u001b[1;34m()\u001b[0m\n\u001b[0;32m      1\u001b[0m \u001b[1;32mdef\u001b[0m \u001b[0mtest_scale\u001b[0m\u001b[1;33m(\u001b[0m\u001b[1;33m)\u001b[0m\u001b[1;33m:\u001b[0m\u001b[1;33m\u001b[0m\u001b[1;33m\u001b[0m\u001b[0m\n\u001b[1;32m----> 2\u001b[1;33m     \u001b[1;32massert\u001b[0m \u001b[1;33m(\u001b[0m\u001b[0mchange_scale\u001b[0m\u001b[1;33m(\u001b[0m\u001b[1;33m[\u001b[0m\u001b[1;36m0\u001b[0m\u001b[1;33m,\u001b[0m\u001b[1;36m1\u001b[0m\u001b[1;33m,\u001b[0m\u001b[1;36m2\u001b[0m\u001b[1;33m,\u001b[0m\u001b[1;36m3\u001b[0m\u001b[1;33m,\u001b[0m\u001b[1;36m4\u001b[0m\u001b[1;33m,\u001b[0m\u001b[1;36m5\u001b[0m\u001b[1;33m,\u001b[0m\u001b[1;36m6\u001b[0m\u001b[1;33m,\u001b[0m\u001b[1;36m7\u001b[0m\u001b[1;33m,\u001b[0m\u001b[1;36m8\u001b[0m\u001b[1;33m,\u001b[0m\u001b[1;36m9\u001b[0m\u001b[1;33m,\u001b[0m\u001b[1;36m10\u001b[0m\u001b[1;33m]\u001b[0m\u001b[1;33m)\u001b[0m \u001b[1;33m==\u001b[0m \u001b[0mnp\u001b[0m\u001b[1;33m.\u001b[0m\u001b[0marray\u001b[0m\u001b[1;33m(\u001b[0m\u001b[1;33m[\u001b[0m\u001b[1;36m.1\u001b[0m\u001b[1;33m,\u001b[0m\u001b[1;36m.2\u001b[0m\u001b[1;33m,\u001b[0m\u001b[1;36m.3\u001b[0m\u001b[1;33m,\u001b[0m\u001b[1;36m.4\u001b[0m\u001b[1;33m,\u001b[0m\u001b[1;36m.5\u001b[0m\u001b[1;33m,\u001b[0m\u001b[1;36m.6\u001b[0m\u001b[1;33m,\u001b[0m\u001b[1;36m.7\u001b[0m\u001b[1;33m,\u001b[0m\u001b[1;36m.8\u001b[0m\u001b[1;33m,\u001b[0m\u001b[1;36m.9\u001b[0m\u001b[1;33m,\u001b[0m\u001b[1;36m1\u001b[0m\u001b[1;33m]\u001b[0m\u001b[1;33m)\u001b[0m\u001b[1;33m)\u001b[0m\u001b[1;33m.\u001b[0m\u001b[0mall\u001b[0m\u001b[1;33m(\u001b[0m\u001b[1;33m)\u001b[0m\u001b[1;33m,\u001b[0m \u001b[1;34m\"change_scale failed the test\"\u001b[0m\u001b[1;33m\u001b[0m\u001b[1;33m\u001b[0m\u001b[0m\n\u001b[0m\u001b[0;32m      3\u001b[0m \u001b[0mtest_scale\u001b[0m\u001b[1;33m(\u001b[0m\u001b[1;33m)\u001b[0m\u001b[1;33m\u001b[0m\u001b[1;33m\u001b[0m\u001b[0m\n",
      "\u001b[1;31mAttributeError\u001b[0m: 'bool' object has no attribute 'all'"
     ]
    }
   ],
   "source": [
    "def test_scale():\n",
    "    assert (change_scale([0,1,2,3,4,5,6,7,8,9,10]) == np.array([.1,.2,.3,.4,.5,.6,.7,.8,.9,1])).all(), \"change_scale failed the test\"\n",
    "test_scale()"
   ]
  },
  {
   "cell_type": "code",
   "execution_count": 47,
   "id": "4245074a-80f5-4212-bc56-c00d27a1bb27",
   "metadata": {},
   "outputs": [
    {
     "data": {
      "text/plain": [
       "\u001b[1;31mDocstring:\u001b[0m\n",
       "compare_chararrays(a, b, cmp_op, rstrip)\n",
       "\n",
       "Performs element-wise comparison of two string arrays using the\n",
       "comparison operator specified by `cmp_op`.\n",
       "\n",
       "Parameters\n",
       "----------\n",
       "a, b : array_like\n",
       "    Arrays to be compared.\n",
       "cmp_op : {\"<\", \"<=\", \"==\", \">=\", \">\", \"!=\"}\n",
       "    Type of comparison.\n",
       "rstrip : Boolean\n",
       "    If True, the spaces at the end of Strings are removed before the comparison.\n",
       "\n",
       "Returns\n",
       "-------\n",
       "out : ndarray\n",
       "    The output array of type Boolean with the same shape as a and b.\n",
       "\n",
       "Raises\n",
       "------\n",
       "ValueError\n",
       "    If `cmp_op` is not valid.\n",
       "TypeError\n",
       "    If at least one of `a` or `b` is a non-string array\n",
       "\n",
       "Examples\n",
       "--------\n",
       ">>> a = np.array([\"a\", \"b\", \"cde\"])\n",
       ">>> b = np.array([\"a\", \"a\", \"dec\"])\n",
       ">>> np.compare_chararrays(a, b, \">\", True)\n",
       "array([False,  True, False])\n",
       "\u001b[1;31mType:\u001b[0m      builtin_function_or_method\n"
      ]
     },
     "metadata": {},
     "output_type": "display_data"
    }
   ],
   "source": [
    "np.compare_chararrays?"
   ]
  },
  {
   "cell_type": "markdown",
   "id": "a9736854-3b45-422b-a955-cd87654cbf07",
   "metadata": {},
   "source": [
    "- git add\n",
    "- git commit\n",
    "- git push\n",
    "- add collaborator in git hub\n",
    "- write tests for other's code"
   ]
  }
 ],
 "metadata": {
  "kernelspec": {
   "display_name": "Python 3 (ipykernel)",
   "language": "python",
   "name": "python3"
  },
  "language_info": {
   "codemirror_mode": {
    "name": "ipython",
    "version": 3
   },
   "file_extension": ".py",
   "mimetype": "text/x-python",
   "name": "python",
   "nbconvert_exporter": "python",
   "pygments_lexer": "ipython3",
   "version": "3.9.13"
  }
 },
 "nbformat": 4,
 "nbformat_minor": 5
}
