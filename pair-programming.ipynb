{
 "cells": [
  {
   "cell_type": "markdown",
   "id": "c5b337f9-7166-4daf-83bd-4da9262c4f91",
   "metadata": {},
   "source": [
    "1. Takes two values (feet and inches) and converts to meters\n",
    "2. Changes coordinates from polar to Cartesian\n",
    "3. Offsets the mean of a given data to match a given value\n",
    "4. Takes the input data and returns values scaled to lie in the range of 0.0 to 1.0."
   ]
  },
  {
   "cell_type": "markdown",
   "id": "baef5c8c-9a4a-4663-8f61-ef17fe348723",
   "metadata": {},
   "source": [
    "## Functions Assignment"
   ]
  },
  {
   "cell_type": "code",
   "execution_count": 16,
   "id": "f59834e5-3e1c-4e18-a121-fe45a816d96c",
   "metadata": {},
   "outputs": [],
   "source": [
    "import numpy as np\n",
    "import math "
   ]
  },
  {
   "cell_type": "code",
   "execution_count": 5,
   "id": "c465a6dd-e232-4c74-bef0-1b16a697a98f",
   "metadata": {},
   "outputs": [],
   "source": [
    "def feet_to_meters(feet, inches):\n",
    "    \"\"\" converts from feet to meters\n",
    "    \"\"\"\n",
    "    meters = feet * 0.3048\n",
    "    meters = meters + inches * 0.0254\n",
    "    return meters"
   ]
  },
  {
   "cell_type": "code",
   "execution_count": 14,
   "id": "f05363e8-6e97-4bb2-be7d-c9ea77b23eba",
   "metadata": {},
   "outputs": [],
   "source": [
    "def polar_to_cartesian(radius, angle):\n",
    "    \n",
    "    x = radius * math.cos(angle)\n",
    "    y = radius * math.sin(angle)\n",
    "    return(x,y)"
   ]
  },
  {
   "cell_type": "code",
   "execution_count": 17,
   "id": "9222bdc9-64d2-4cb2-8b57-9aec051b70bd",
   "metadata": {},
   "outputs": [
    {
     "data": {
      "text/plain": [
       "(2.4492935982947064e-16, 4.0)"
      ]
     },
     "execution_count": 17,
     "metadata": {},
     "output_type": "execute_result"
    }
   ],
   "source": [
    "polar_to_cartesian(4,math.pi/2)"
   ]
  },
  {
   "cell_type": "code",
   "execution_count": 10,
   "id": "81a1b569-901d-42bb-8293-ca8d42fe7b96",
   "metadata": {},
   "outputs": [],
   "source": [
    "def movemean(data,offset):\n",
    "    data = [data + offset]\n",
    "    return np.mean(data)"
   ]
  },
  {
   "cell_type": "code",
   "execution_count": 13,
   "id": "ee663a0c-fe07-4b13-b0bf-b8a2f768d3aa",
   "metadata": {},
   "outputs": [
    {
     "name": "stdout",
     "output_type": "stream",
     "text": [
      "2.0\n"
     ]
    },
    {
     "data": {
      "text/plain": [
       "4.0"
      ]
     },
     "execution_count": 13,
     "metadata": {},
     "output_type": "execute_result"
    }
   ],
   "source": [
    "data = np.array([1,1,4])\n",
    "print(np.mean(data))\n",
    "offset = 2\n",
    "movemean(data,offset)"
   ]
  },
  {
   "cell_type": "code",
   "execution_count": 22,
   "id": "136a72f0-e848-4125-8f42-46458d65c25b",
   "metadata": {},
   "outputs": [],
   "source": [
    "def change_scale(data):\n",
    "    data = [data / np.max(data)]\n",
    "    return data"
   ]
  },
  {
   "cell_type": "code",
   "execution_count": 23,
   "id": "607aad63-8033-4e65-8844-0b13bb5bb8ca",
   "metadata": {},
   "outputs": [
    {
     "name": "stdout",
     "output_type": "stream",
     "text": [
      "[array([0.26315789, 0.05263158, 0.21052632, 1.        ])]\n"
     ]
    }
   ],
   "source": [
    "data2 = [5,1,4,19]\n",
    "print(change_scale(data2))"
   ]
  },
  {
   "cell_type": "markdown",
   "id": "a9736854-3b45-422b-a955-cd87654cbf07",
   "metadata": {},
   "source": [
    "- git add\n",
    "- git commit\n",
    "- git push\n",
    "- add collaborator in git hub\n",
    "- write tests for other's code"
   ]
  }
 ],
 "metadata": {
  "kernelspec": {
   "display_name": "Python 3 (ipykernel)",
   "language": "python",
   "name": "python3"
  },
  "language_info": {
   "codemirror_mode": {
    "name": "ipython",
    "version": 3
   },
   "file_extension": ".py",
   "mimetype": "text/x-python",
   "name": "python",
   "nbconvert_exporter": "python",
   "pygments_lexer": "ipython3",
   "version": "3.9.13"
  }
 },
 "nbformat": 4,
 "nbformat_minor": 5
}
